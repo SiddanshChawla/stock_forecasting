{
  "nbformat": 4,
  "nbformat_minor": 0,
  "metadata": {
    "colab": {
      "provenance": [],
      "authorship_tag": "ABX9TyOP4Yn//h45G+kqit3MVdj9",
      "include_colab_link": true
    },
    "kernelspec": {
      "name": "python3",
      "display_name": "Python 3"
    },
    "language_info": {
      "name": "python"
    }
  },
  "cells": [
    {
      "cell_type": "markdown",
      "metadata": {
        "id": "view-in-github",
        "colab_type": "text"
      },
      "source": [
        "<a href=\"https://colab.research.google.com/github/SiddanshChawla/stock_forecasting/blob/main/gru_for_sentiment.ipynb\" target=\"_parent\"><img src=\"https://colab.research.google.com/assets/colab-badge.svg\" alt=\"Open In Colab\"/></a>"
      ]
    },
    {
      "cell_type": "code",
      "execution_count": 3,
      "metadata": {
        "id": "9jsudb8lpRbn"
      },
      "outputs": [],
      "source": [
        "import numpy as np\n",
        "import pandas as pd\n",
        "import re   \n",
        "import nltk  \n",
        "from sklearn.model_selection import train_test_split\n",
        "from tensorflow.keras.models import Sequential\n",
        "from tensorflow.keras.layers import Dense, GRU, Embedding\n",
        "from tensorflow.keras.optimizers import Adam\n",
        "from tensorflow.keras.preprocessing.text import Tokenizer\n",
        "from tensorflow.keras.preprocessing.sequence import pad_sequences\n"
      ]
    },
    {
      "cell_type": "code",
      "source": [
        "import string\n",
        "from textblob import TextBlob\n",
        "import spacy\n",
        "nlp=spacy.load('en_core_web_sm')\n",
        "\n",
        "from sklearn.model_selection import train_test_split\n",
        "from sklearn.linear_model import LogisticRegression\n",
        "from sklearn.metrics import confusion_matrix, precision_score,recall_score\n",
        "import seaborn as sns"
      ],
      "metadata": {
        "id": "RdhPfG_iOL8y"
      },
      "execution_count": 4,
      "outputs": []
    },
    {
      "cell_type": "code",
      "source": [
        "data = pd.read_csv('/content/financial news data.csv',encoding='latin-1',header = None)"
      ],
      "metadata": {
        "id": "yy-hTKbxpgrP"
      },
      "execution_count": 5,
      "outputs": []
    },
    {
      "cell_type": "code",
      "source": [
        "data.head()"
      ],
      "metadata": {
        "colab": {
          "base_uri": "https://localhost:8080/",
          "height": 206
        },
        "id": "PnqQd87sqLa3",
        "outputId": "4c9c23a5-9843-480e-b27b-77e436635ed0"
      },
      "execution_count": 6,
      "outputs": [
        {
          "output_type": "execute_result",
          "data": {
            "text/plain": [
              "          0                                                  1\n",
              "0   neutral  According to Gran , the company has no plans t...\n",
              "1   neutral  Technopolis plans to develop in stages an area...\n",
              "2  negative  The international electronic industry company ...\n",
              "3  positive  With the new production plant the company woul...\n",
              "4  positive  According to the company 's updated strategy f..."
            ],
            "text/html": [
              "\n",
              "  <div id=\"df-c9994c33-3a21-47ce-86c0-d544ad1d1b22\">\n",
              "    <div class=\"colab-df-container\">\n",
              "      <div>\n",
              "<style scoped>\n",
              "    .dataframe tbody tr th:only-of-type {\n",
              "        vertical-align: middle;\n",
              "    }\n",
              "\n",
              "    .dataframe tbody tr th {\n",
              "        vertical-align: top;\n",
              "    }\n",
              "\n",
              "    .dataframe thead th {\n",
              "        text-align: right;\n",
              "    }\n",
              "</style>\n",
              "<table border=\"1\" class=\"dataframe\">\n",
              "  <thead>\n",
              "    <tr style=\"text-align: right;\">\n",
              "      <th></th>\n",
              "      <th>0</th>\n",
              "      <th>1</th>\n",
              "    </tr>\n",
              "  </thead>\n",
              "  <tbody>\n",
              "    <tr>\n",
              "      <th>0</th>\n",
              "      <td>neutral</td>\n",
              "      <td>According to Gran , the company has no plans t...</td>\n",
              "    </tr>\n",
              "    <tr>\n",
              "      <th>1</th>\n",
              "      <td>neutral</td>\n",
              "      <td>Technopolis plans to develop in stages an area...</td>\n",
              "    </tr>\n",
              "    <tr>\n",
              "      <th>2</th>\n",
              "      <td>negative</td>\n",
              "      <td>The international electronic industry company ...</td>\n",
              "    </tr>\n",
              "    <tr>\n",
              "      <th>3</th>\n",
              "      <td>positive</td>\n",
              "      <td>With the new production plant the company woul...</td>\n",
              "    </tr>\n",
              "    <tr>\n",
              "      <th>4</th>\n",
              "      <td>positive</td>\n",
              "      <td>According to the company 's updated strategy f...</td>\n",
              "    </tr>\n",
              "  </tbody>\n",
              "</table>\n",
              "</div>\n",
              "      <button class=\"colab-df-convert\" onclick=\"convertToInteractive('df-c9994c33-3a21-47ce-86c0-d544ad1d1b22')\"\n",
              "              title=\"Convert this dataframe to an interactive table.\"\n",
              "              style=\"display:none;\">\n",
              "        \n",
              "  <svg xmlns=\"http://www.w3.org/2000/svg\" height=\"24px\"viewBox=\"0 0 24 24\"\n",
              "       width=\"24px\">\n",
              "    <path d=\"M0 0h24v24H0V0z\" fill=\"none\"/>\n",
              "    <path d=\"M18.56 5.44l.94 2.06.94-2.06 2.06-.94-2.06-.94-.94-2.06-.94 2.06-2.06.94zm-11 1L8.5 8.5l.94-2.06 2.06-.94-2.06-.94L8.5 2.5l-.94 2.06-2.06.94zm10 10l.94 2.06.94-2.06 2.06-.94-2.06-.94-.94-2.06-.94 2.06-2.06.94z\"/><path d=\"M17.41 7.96l-1.37-1.37c-.4-.4-.92-.59-1.43-.59-.52 0-1.04.2-1.43.59L10.3 9.45l-7.72 7.72c-.78.78-.78 2.05 0 2.83L4 21.41c.39.39.9.59 1.41.59.51 0 1.02-.2 1.41-.59l7.78-7.78 2.81-2.81c.8-.78.8-2.07 0-2.86zM5.41 20L4 18.59l7.72-7.72 1.47 1.35L5.41 20z\"/>\n",
              "  </svg>\n",
              "      </button>\n",
              "      \n",
              "  <style>\n",
              "    .colab-df-container {\n",
              "      display:flex;\n",
              "      flex-wrap:wrap;\n",
              "      gap: 12px;\n",
              "    }\n",
              "\n",
              "    .colab-df-convert {\n",
              "      background-color: #E8F0FE;\n",
              "      border: none;\n",
              "      border-radius: 50%;\n",
              "      cursor: pointer;\n",
              "      display: none;\n",
              "      fill: #1967D2;\n",
              "      height: 32px;\n",
              "      padding: 0 0 0 0;\n",
              "      width: 32px;\n",
              "    }\n",
              "\n",
              "    .colab-df-convert:hover {\n",
              "      background-color: #E2EBFA;\n",
              "      box-shadow: 0px 1px 2px rgba(60, 64, 67, 0.3), 0px 1px 3px 1px rgba(60, 64, 67, 0.15);\n",
              "      fill: #174EA6;\n",
              "    }\n",
              "\n",
              "    [theme=dark] .colab-df-convert {\n",
              "      background-color: #3B4455;\n",
              "      fill: #D2E3FC;\n",
              "    }\n",
              "\n",
              "    [theme=dark] .colab-df-convert:hover {\n",
              "      background-color: #434B5C;\n",
              "      box-shadow: 0px 1px 3px 1px rgba(0, 0, 0, 0.15);\n",
              "      filter: drop-shadow(0px 1px 2px rgba(0, 0, 0, 0.3));\n",
              "      fill: #FFFFFF;\n",
              "    }\n",
              "  </style>\n",
              "\n",
              "      <script>\n",
              "        const buttonEl =\n",
              "          document.querySelector('#df-c9994c33-3a21-47ce-86c0-d544ad1d1b22 button.colab-df-convert');\n",
              "        buttonEl.style.display =\n",
              "          google.colab.kernel.accessAllowed ? 'block' : 'none';\n",
              "\n",
              "        async function convertToInteractive(key) {\n",
              "          const element = document.querySelector('#df-c9994c33-3a21-47ce-86c0-d544ad1d1b22');\n",
              "          const dataTable =\n",
              "            await google.colab.kernel.invokeFunction('convertToInteractive',\n",
              "                                                     [key], {});\n",
              "          if (!dataTable) return;\n",
              "\n",
              "          const docLinkHtml = 'Like what you see? Visit the ' +\n",
              "            '<a target=\"_blank\" href=https://colab.research.google.com/notebooks/data_table.ipynb>data table notebook</a>'\n",
              "            + ' to learn more about interactive tables.';\n",
              "          element.innerHTML = '';\n",
              "          dataTable['output_type'] = 'display_data';\n",
              "          await google.colab.output.renderOutput(dataTable, element);\n",
              "          const docLink = document.createElement('div');\n",
              "          docLink.innerHTML = docLinkHtml;\n",
              "          element.appendChild(docLink);\n",
              "        }\n",
              "      </script>\n",
              "    </div>\n",
              "  </div>\n",
              "  "
            ]
          },
          "metadata": {},
          "execution_count": 6
        }
      ]
    },
    {
      "cell_type": "code",
      "source": [
        "data.columns = ['sentiment','news']"
      ],
      "metadata": {
        "id": "NrJE6LQRqNPE"
      },
      "execution_count": 7,
      "outputs": []
    },
    {
      "cell_type": "code",
      "source": [
        "data.groupby('sentiment').count().plot(kind='bar')\n"
      ],
      "metadata": {
        "colab": {
          "base_uri": "https://localhost:8080/",
          "height": 516
        },
        "id": "RhtJY4UiqRkR",
        "outputId": "80976592-5562-4f15-a958-39b4637d6395"
      },
      "execution_count": 8,
      "outputs": [
        {
          "output_type": "execute_result",
          "data": {
            "text/plain": [
              "<Axes: xlabel='sentiment'>"
            ]
          },
          "metadata": {},
          "execution_count": 8
        },
        {
          "output_type": "display_data",
          "data": {
            "text/plain": [
              "<Figure size 640x480 with 1 Axes>"
            ],
            "image/png": "[encoded data removed]"
          },
          "metadata": {}
        }
      ]
    },
    {
      "cell_type": "code",
      "source": [
        "def read_data():\n",
        "    dataset=pd.read_csv('/content/financial news data.csv',encoding='latin-1',\n",
        "                header=None,\n",
        "                 names=['Sentiment','News'])\n",
        "    return dataset\n",
        "\n",
        "def convert_to_lower_case():\n",
        "    def lower(input_text):\n",
        "        return input_text.lower()\n",
        "    dataset['News']=dataset['News'].apply(lower)\n",
        "    \n",
        "def remove_punctuation():\n",
        "    def remove_punctuation_from_text(input_text):\n",
        "        output_list=[word for word in input_text.split() if word.isalpha()]\n",
        "        return ' '.join(output_list)    \n",
        "    dataset['News']=dataset['News'].apply(remove_punctuation_from_text)\n",
        "    \n",
        "def correct_words():\n",
        "    def correct_text(input_text):\n",
        "        list_1=[str(TextBlob(word).correct()) for word in input_text.split()]\n",
        "        output_text= ' '.join(list_1)\n",
        "        return output_text\n",
        "    dataset['News']=dataset['News'].apply(correct_text)\n",
        "    \n",
        "def lemmatize():\n",
        "    def lematize_text(input_text):\n",
        "        doc=nlp(input_text)\n",
        "        lemmas=[token.lemma_ for token in doc]\n",
        "        output_text=' '.join(lemmas)\n",
        "        return output_text\n",
        "    dataset['News']=dataset['News'].apply(lematize_text)\n",
        "    \n",
        "def remove_stopwords():\n",
        "    def remove_stopwords_from_text(input_text):\n",
        "        stopwords=spacy.lang.en.stop_words.STOP_WORDS\n",
        "        output_list=[word for word in input_text.split() if word not in stopwords and not(word=='-PRON-') ]\n",
        "        return ' '.join(output_list)\n",
        "    dataset['News']=dataset['News'].apply(remove_stopwords_from_text)\n",
        "\n",
        "def filter_the_neutral_news():\n",
        "    return dataset[dataset['Sentiment']!='neutral']\n",
        "\n",
        "def create_target_and_input():\n",
        "    target=dataset['Sentiment'].values.tolist()\n",
        "    target=[1 if sentiment=='positive' else 0 for sentiment in target]\n",
        "    data=dataset['News'].values.tolist()\n",
        "    return data,target\n",
        "\n",
        "def split_train_test():\n",
        "    x_train, x_test, y_train, y_test = train_test_split(data, target, test_size=0.2, random_state=42,stratify=target)\n",
        "    y_train=np.array(y_train)\n",
        "    y_test=np.array(y_test)\n",
        "    return x_train, x_test, y_train, y_test "
      ],
      "metadata": {
        "id": "SkVqvFPQP17h"
      },
      "execution_count": 28,
      "outputs": []
    },
    {
      "cell_type": "code",
      "source": [
        "dataset=read_data()\n",
        "convert_to_lower_case()\n",
        "remove_punctuation()\n",
        "lemmatize()\n",
        "remove_stopwords()\n",
        "dataset=filter_the_neutral_news()\n",
        "data, target  =create_target_and_input()\n",
        "x_train, x_test, y_train, y_test =split_train_test()"
      ],
      "metadata": {
        "id": "2-DiQgjjQykr"
      },
      "execution_count": 29,
      "outputs": []
    },
    {
      "cell_type": "code",
      "source": [
        "\n",
        "num_words=1000\n",
        "tokenizer=Tokenizer(num_words=num_words)\n",
        "tokenizer.fit_on_texts(data)\n",
        "\n",
        "x_train_tokens=tokenizer.texts_to_sequences(x_train)\n",
        "x_test_tokens=tokenizer.texts_to_sequences(x_test)\n",
        "\n"
      ],
      "metadata": {
        "id": "U2vBuLp4SMCR"
      },
      "execution_count": 56,
      "outputs": []
    },
    {
      "cell_type": "code",
      "source": [
        "\n",
        "num_tokens=[len(tokens) for tokens in x_train_tokens+x_test_tokens]\n",
        "num_tokens=np.array(num_tokens)\n",
        "max_tokens=np.mean(num_tokens)+2*np.std(num_tokens)\n",
        "max_tokens=int(max_tokens)\n",
        "\n"
      ],
      "metadata": {
        "id": "muCABUnPUZjz"
      },
      "execution_count": 57,
      "outputs": []
    },
    {
      "cell_type": "code",
      "source": [
        "x_train_pad=pad_sequences(x_train_tokens, maxlen=max_tokens)\n",
        "x_test_pad=pad_sequences(x_test_tokens, maxlen=max_tokens)"
      ],
      "metadata": {
        "id": "lgmsIRUqUcbt"
      },
      "execution_count": 58,
      "outputs": []
    },
    {
      "cell_type": "code",
      "source": [
        "model=Sequential()\n",
        "embedding_size=50\n",
        "model.add(Embedding(input_dim=num_words, output_dim=embedding_size, input_length=max_tokens,name='embedding_layer')) \n",
        "\n",
        "model.add(GRU(units=16,return_sequences=True))\n",
        "model.add(GRU(units=8, return_sequences=True))\n",
        "model.add(GRU(units=4))\n",
        "model.add(Dense(1,activation='sigmoid'))\n",
        "optimizer=Adam(lr=1e-3)"
      ],
      "metadata": {
        "colab": {
          "base_uri": "https://localhost:8080/"
        },
        "id": "4TB5wlYCSipX",
        "outputId": "960e262c-c479-4a40-d722-2a1982e112b3"
      },
      "execution_count": 61,
      "outputs": [
        {
          "output_type": "stream",
          "name": "stderr",
          "text": [
            "WARNING:absl:`lr` is deprecated in Keras optimizer, please use `learning_rate` or use the legacy optimizer, e.g.,tf.keras.optimizers.legacy.Adam.\n"
          ]
        }
      ]
    },
    {
      "cell_type": "code",
      "source": [
        "model.compile(loss='binary_crossentropy',optimizer=optimizer, metrics=['accuracy'])"
      ],
      "metadata": {
        "id": "QeA6yowxSl5A"
      },
      "execution_count": 62,
      "outputs": []
    },
    {
      "cell_type": "code",
      "source": [
        "model.summary()\n"
      ],
      "metadata": {
        "colab": {
          "base_uri": "https://localhost:8080/"
        },
        "id": "T68sxPL_Sntt",
        "outputId": "9b9c468e-e758-4d99-d67a-c9fe2185f735"
      },
      "execution_count": 63,
      "outputs": [
        {
          "output_type": "stream",
          "name": "stdout",
          "text": [
            "Model: \"sequential_1\"\n",
            "_________________________________________________________________\n",
            " Layer (type)                Output Shape              Param #   \n",
            "=================================================================\n",
            " embedding_layer (Embedding)  (None, 18, 50)           50000     \n",
            "                                                                 \n",
            " gru_3 (GRU)                 (None, 18, 16)            3264      \n",
            "                                                                 \n",
            " gru_4 (GRU)                 (None, 18, 8)             624       \n",
            "                                                                 \n",
            " gru_5 (GRU)                 (None, 4)                 168       \n",
            "                                                                 \n",
            " dense_1 (Dense)             (None, 1)                 5         \n",
            "                                                                 \n",
            "=================================================================\n",
            "Total params: 54,061\n",
            "Trainable params: 54,061\n",
            "Non-trainable params: 0\n",
            "_________________________________________________________________\n"
          ]
        }
      ]
    },
    {
      "cell_type": "code",
      "source": [
        "model.fit(x_train_pad, y_train,epochs=8)"
      ],
      "metadata": {
        "colab": {
          "base_uri": "https://localhost:8080/"
        },
        "id": "8eDZxmCpSp42",
        "outputId": "afe05a5e-059e-41ad-cd5f-21535e297b0b"
      },
      "execution_count": 65,
      "outputs": [
        {
          "output_type": "stream",
          "name": "stdout",
          "text": [
            "Epoch 1/8\n",
            "50/50 [==============================] - 6s 32ms/step - loss: 0.6207 - accuracy: 0.6879\n",
            "Epoch 2/8\n",
            "50/50 [==============================] - 2s 32ms/step - loss: 0.4653 - accuracy: 0.7845\n",
            "Epoch 3/8\n",
            "50/50 [==============================] - 2s 45ms/step - loss: 0.3007 - accuracy: 0.8773\n",
            "Epoch 4/8\n",
            "50/50 [==============================] - 2s 39ms/step - loss: 0.2284 - accuracy: 0.9142\n",
            "Epoch 5/8\n",
            "50/50 [==============================] - 2s 32ms/step - loss: 0.1956 - accuracy: 0.9332\n",
            "Epoch 6/8\n",
            "50/50 [==============================] - 2s 31ms/step - loss: 0.1643 - accuracy: 0.9447\n",
            "Epoch 7/8\n",
            "50/50 [==============================] - 2s 32ms/step - loss: 0.1517 - accuracy: 0.9498\n",
            "Epoch 8/8\n",
            "50/50 [==============================] - 2s 32ms/step - loss: 0.1450 - accuracy: 0.9510\n"
          ]
        },
        {
          "output_type": "execute_result",
          "data": {
            "text/plain": [
              "<keras.callbacks.History at 0x7f836cdb55b0>"
            ]
          },
          "metadata": {},
          "execution_count": 65
        }
      ]
    },
    {
      "cell_type": "code",
      "source": [
        "result=model.evaluate(x_test_pad,y_test)"
      ],
      "metadata": {
        "colab": {
          "base_uri": "https://localhost:8080/"
        },
        "id": "vaxh1GBhSt-2",
        "outputId": "635a8c2f-1905-4d80-9292-9e591a43ab9f"
      },
      "execution_count": 66,
      "outputs": [
        {
          "output_type": "stream",
          "name": "stdout",
          "text": [
            "13/13 [==============================] - 1s 8ms/step - loss: 0.4729 - accuracy: 0.8096\n"
          ]
        }
      ]
    },
    {
      "cell_type": "code",
      "source": [],
      "metadata": {
        "id": "wFrDXvP2S8ru"
      },
      "execution_count": null,
      "outputs": []
    }
  ]
}